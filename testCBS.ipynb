{
 "cells": [
  {
   "cell_type": "code",
   "execution_count": 5,
   "id": "e7bedfad",
   "metadata": {},
   "outputs": [
    {
     "name": "stdout",
     "output_type": "stream",
     "text": [
      "0: 1\n",
      "1: 2\n",
      "2: 2\n",
      "3: 2\n",
      "4: 1\n",
      "\n",
      "The autoreload extension is already loaded. To reload it, use:\n",
      "  %reload_ext autoreload\n"
     ]
    }
   ],
   "source": [
    "from testsCBS import test_cbs_on_map\n",
    "\n",
    "%load_ext autoreload\n",
    "%autoreload 2"
   ]
  },
  {
   "cell_type": "code",
   "execution_count": 6,
   "id": "bf0581bc",
   "metadata": {},
   "outputs": [
    {
     "name": "stdout",
     "output_type": "stream",
     "text": [
      "0: 1\n",
      "1: 2\n",
      "2: 2\n",
      "3: 2\n",
      "4: 1\n",
      "\n"
     ]
    },
    {
     "data": {
      "image/png": "[encoded data removed]",
      "text/plain": [
       "<Figure size 960x720 with 1 Axes>"
      ]
     },
     "metadata": {},
     "output_type": "display_data"
    },
    {
     "ename": "ValueError",
     "evalue": "too many values to unpack (expected 2)",
     "output_type": "error",
     "traceback": [
      "\u001b[0;31m---------------------------------------------------------------------------\u001b[0m",
      "\u001b[0;31mValueError\u001b[0m                                Traceback (most recent call last)",
      "Cell \u001b[0;32mIn[6], line 3\u001b[0m\n\u001b[1;32m      1\u001b[0m get_ipython()\u001b[39m.\u001b[39mrun_line_magic(\u001b[39m'\u001b[39m\u001b[39mreload_ext\u001b[39m\u001b[39m'\u001b[39m, \u001b[39m'\u001b[39m\u001b[39mautoreload\u001b[39m\u001b[39m'\u001b[39m)\n\u001b[1;32m      2\u001b[0m \u001b[39m# test_cbs_on_map(0, 7, show_debug=False, show_all_solution=False)\u001b[39;00m\n\u001b[0;32m----> 3\u001b[0m test_cbs_on_map(\u001b[39m0\u001b[39;49m, \u001b[39m7\u001b[39;49m)\n",
      "File \u001b[0;32m~/CBSLab/testsCBS.py:158\u001b[0m, in \u001b[0;36mtest_cbs_on_map\u001b[0;34m(number, number_test, show_debug, show_all_solution, show_path)\u001b[0m\n\u001b[1;32m    156\u001b[0m goal_points \u001b[39m=\u001b[39m tests[number][number_test][\u001b[39m1\u001b[39m]\n\u001b[1;32m    157\u001b[0m draw(test_map)\n\u001b[0;32m--> 158\u001b[0m sol \u001b[39m=\u001b[39m CBS(test_map, starts_points, goal_points, octile, SearchTreePQS, show_debug)\n\u001b[1;32m    159\u001b[0m \u001b[39mif\u001b[39;00m show_all_solution:\n\u001b[1;32m    160\u001b[0m     \u001b[39mfor\u001b[39;00m i \u001b[39min\u001b[39;00m \u001b[39mrange\u001b[39m(\u001b[39mlen\u001b[39m(starts_points)):\n",
      "File \u001b[0;32m~/CBSLab/CBS.py:90\u001b[0m, in \u001b[0;36mCBS\u001b[0;34m(grid_map, starts_points, goals_points, heuristic_func, search_tree, show_debug)\u001b[0m\n\u001b[1;32m     86\u001b[0m     \u001b[39mreturn\u001b[39;00m current_node\u001b[39m.\u001b[39mget_solutions()\n\u001b[1;32m     88\u001b[0m \u001b[39m# granted_conflict_key = get_first_conflict_from(conflict)\u001b[39;00m\n\u001b[0;32m---> 90\u001b[0m (granted_conflict, kind) \u001b[39m=\u001b[39m carefully_extract_the_conflict(conflict, step, current_node\u001b[39m.\u001b[39;49mget_solutions())\n\u001b[1;32m     92\u001b[0m \u001b[39m# For cardinal: kind == ConflictType.cardinal\u001b[39;00m\n\u001b[1;32m     93\u001b[0m \u001b[39m# For semi-cardinal: kind == ConflictType.semiCardinal\u001b[39;00m\n\u001b[1;32m     94\u001b[0m \u001b[39m#   and in this case you can get the index of agent with cardinal conflict with `kind.cardinalAgent`\u001b[39;00m\n\u001b[1;32m     95\u001b[0m \u001b[39m# For non-cardinal: kind == ConflictType.nonCardinal\u001b[39;00m\n\u001b[1;32m     97\u001b[0m print_debug(mode, \u001b[39m\"\u001b[39m\u001b[39mFIRST_CONFLICT\u001b[39m\u001b[39m\"\u001b[39m, granted_conflict)\n",
      "File \u001b[0;32m~/CBSLab/CBS.py:29\u001b[0m, in \u001b[0;36mcarefully_extract_the_conflict\u001b[0;34m(points, t, some_vegetables)\u001b[0m\n\u001b[1;32m     27\u001b[0m \u001b[39mdef\u001b[39;00m \u001b[39mcarefully_extract_the_conflict\u001b[39m(points, t, some_vegetables) \u001b[39m-\u001b[39m\u001b[39m>\u001b[39m tp\u001b[39m.\u001b[39mTuple[Conflict, ConflictType]:\n\u001b[1;32m     28\u001b[0m     beautiful_soup \u001b[39m=\u001b[39m []\n\u001b[0;32m---> 29\u001b[0m     \u001b[39mfor\u001b[39;00m (i, j), pets \u001b[39min\u001b[39;00m points\u001b[39m.\u001b[39mitems():\n\u001b[1;32m     30\u001b[0m         \u001b[39mif\u001b[39;00m \u001b[39mlen\u001b[39m(pets) \u001b[39m>\u001b[39m \u001b[39m1\u001b[39m:\n\u001b[1;32m     31\u001b[0m             \u001b[39m# all combinations of agents (pets) of 2\u001b[39;00m\n\u001b[1;32m     32\u001b[0m             beautiful_soup \u001b[39m+\u001b[39m\u001b[39m=\u001b[39m [(\u001b[39m*\u001b[39mtossed, (i, j), t) \u001b[39mfor\u001b[39;00m tossed \u001b[39min\u001b[39;00m combinations(pets, \u001b[39m2\u001b[39m)]\n",
      "\u001b[0;31mValueError\u001b[0m: too many values to unpack (expected 2)"
     ]
    }
   ],
   "source": [
    "%reload_ext autoreload\n",
    "# test_cbs_on_map(0, 7, show_debug=False, show_all_solution=False)\n",
    "test_cbs_on_map(0, 7)"
   ]
  },
  {
   "cell_type": "code",
   "execution_count": null,
   "id": "13f13a79",
   "metadata": {},
   "outputs": [],
   "source": []
  }
 ],
 "metadata": {
  "kernelspec": {
   "display_name": "habitat",
   "language": "python",
   "name": "python3"
  },
  "language_info": {
   "codemirror_mode": {
    "name": "ipython",
    "version": 3
   },
   "file_extension": ".py",
   "mimetype": "text/x-python",
   "name": "python",
   "nbconvert_exporter": "python",
   "pygments_lexer": "ipython3",
   "version": "3.9.1"
  },
  "vscode": {
   "interpreter": {
    "hash": "e6b827da8ec570dda967925be2e5b87966504cdd70d9ab1bd95205617098a0d5"
   }
  }
 },
 "nbformat": 4,
 "nbformat_minor": 5
}
