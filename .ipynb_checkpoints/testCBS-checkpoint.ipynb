{
 "cells": [
  {
   "cell_type": "code",
   "execution_count": 4,
   "id": "e7bedfad",
   "metadata": {},
   "outputs": [
    {
     "name": "stdout",
     "output_type": "stream",
     "text": [
      "The autoreload extension is already loaded. To reload it, use:\n",
      "  %reload_ext autoreload\n"
     ]
    }
   ],
   "source": [
    "from testsCBS import test_cbs_on_map\n",
    "\n",
    "%load_ext autoreload\n",
    "%autoreload 2"
   ]
  },
  {
   "cell_type": "code",
   "execution_count": 5,
   "id": "bf0581bc",
   "metadata": {},
   "outputs": [
    {
     "data": {
      "image/png": "[encoded data removed]",
      "text/plain": [
       "<Figure size 900x600 with 1 Axes>"
      ]
     },
     "metadata": {
      "needs_background": "light"
     },
     "output_type": "display_data"
    },
    {
     "ename": "ValueError",
     "evalue": "too many values to unpack (expected 3)",
     "output_type": "error",
     "traceback": [
      "\u001b[0;31m---------------------------------------------------------------------------\u001b[0m",
      "\u001b[0;31mValueError\u001b[0m                                Traceback (most recent call last)",
      "Input \u001b[0;32mIn [5]\u001b[0m, in \u001b[0;36m<cell line: 2>\u001b[0;34m()\u001b[0m\n\u001b[1;32m      1\u001b[0m \u001b[38;5;66;03m# test_cbs_on_map(0, 7, show_debug=False, show_all_solution=False)\u001b[39;00m\n\u001b[0;32m----> 2\u001b[0m \u001b[43mtest_cbs_on_map\u001b[49m\u001b[43m(\u001b[49m\u001b[38;5;241;43m2\u001b[39;49m\u001b[43m,\u001b[49m\u001b[43m \u001b[49m\u001b[38;5;241;43m0\u001b[39;49m\u001b[43m)\u001b[49m\n",
      "File \u001b[0;32m~/Documents/vuz/HAaF/CBSLab/testsCBS.py:158\u001b[0m, in \u001b[0;36mtest_cbs_on_map\u001b[0;34m(number, number_test, show_debug, show_all_solution, show_path)\u001b[0m\n\u001b[1;32m    156\u001b[0m goal_points \u001b[38;5;241m=\u001b[39m tests[number][number_test][\u001b[38;5;241m1\u001b[39m]\n\u001b[1;32m    157\u001b[0m draw(test_map)\n\u001b[0;32m--> 158\u001b[0m sol \u001b[38;5;241m=\u001b[39m \u001b[43mCBS\u001b[49m\u001b[43m(\u001b[49m\u001b[43mtest_map\u001b[49m\u001b[43m,\u001b[49m\u001b[43m \u001b[49m\u001b[43mstarts_points\u001b[49m\u001b[43m,\u001b[49m\u001b[43m \u001b[49m\u001b[43mgoal_points\u001b[49m\u001b[43m,\u001b[49m\u001b[43m \u001b[49m\u001b[43moctile\u001b[49m\u001b[43m,\u001b[49m\u001b[43m \u001b[49m\u001b[43mSearchTreePQS\u001b[49m\u001b[43m,\u001b[49m\u001b[43m \u001b[49m\u001b[43mshow_debug\u001b[49m\u001b[43m)\u001b[49m\n\u001b[1;32m    159\u001b[0m \u001b[38;5;28;01mif\u001b[39;00m show_all_solution:\n\u001b[1;32m    160\u001b[0m     \u001b[38;5;28;01mfor\u001b[39;00m i \u001b[38;5;129;01min\u001b[39;00m \u001b[38;5;28mrange\u001b[39m(\u001b[38;5;28mlen\u001b[39m(starts_points)):\n",
      "File \u001b[0;32m~/Documents/vuz/HAaF/CBSLab/CBS.py:89\u001b[0m, in \u001b[0;36mCBS\u001b[0;34m(grid_map, starts_points, goals_points, heuristic_func, search_tree, show_debug)\u001b[0m\n\u001b[1;32m     85\u001b[0m     \u001b[38;5;28;01mreturn\u001b[39;00m current_node\u001b[38;5;241m.\u001b[39mget_solutions()\n\u001b[1;32m     87\u001b[0m \u001b[38;5;66;03m# granted_conflict_key = get_first_conflict_from(conflict)\u001b[39;00m\n\u001b[0;32m---> 89\u001b[0m granted_conflict \u001b[38;5;241m=\u001b[39m \u001b[43mcarefully_extract_the_conflict\u001b[49m\u001b[43m(\u001b[49m\u001b[43mconflict\u001b[49m\u001b[43m,\u001b[49m\u001b[43m \u001b[49m\u001b[43mcurrent_node\u001b[49m\u001b[38;5;241;43m.\u001b[39;49m\u001b[43mget_solutions\u001b[49m\u001b[43m(\u001b[49m\u001b[43m)\u001b[49m\u001b[43m)\u001b[49m\n\u001b[1;32m     91\u001b[0m print_debug(mode, \u001b[38;5;124m\"\u001b[39m\u001b[38;5;124mFIRST_CONFLICT\u001b[39m\u001b[38;5;124m\"\u001b[39m, granted_conflict)\n\u001b[1;32m     92\u001b[0m \u001b[38;5;66;03m# first_astar_index = conflict[first_conflict_key][0]\u001b[39;00m\n\u001b[1;32m     93\u001b[0m \u001b[38;5;66;03m# conflict_node = Node(current_node.get_solutions().solutions[first_astar_index].get_path()[step].i, current_node.get_solutions().solutions[first_astar_index].get_path()[step].j)\u001b[39;00m\n",
      "File \u001b[0;32m~/Documents/vuz/HAaF/CBSLab/CBS.py:28\u001b[0m, in \u001b[0;36mcarefully_extract_the_conflict\u001b[0;34m(points, some_vegetables)\u001b[0m\n\u001b[1;32m     26\u001b[0m \u001b[38;5;28;01mdef\u001b[39;00m \u001b[38;5;21mcarefully_extract_the_conflict\u001b[39m(points, some_vegetables):\n\u001b[1;32m     27\u001b[0m     beautiful_soup \u001b[38;5;241m=\u001b[39m []\n\u001b[0;32m---> 28\u001b[0m     \u001b[38;5;28;01mfor\u001b[39;00m (i, j, t), pets \u001b[38;5;129;01min\u001b[39;00m points\u001b[38;5;241m.\u001b[39mitems():\n\u001b[1;32m     29\u001b[0m         \u001b[38;5;28;01mif\u001b[39;00m \u001b[38;5;28mlen\u001b[39m(pets) \u001b[38;5;241m>\u001b[39m \u001b[38;5;241m1\u001b[39m:\n\u001b[1;32m     30\u001b[0m             \u001b[38;5;66;03m# all combinations of agents (pets) of 2\u001b[39;00m\n\u001b[1;32m     31\u001b[0m             beautiful_soup \u001b[38;5;241m+\u001b[39m\u001b[38;5;241m=\u001b[39m [(\u001b[38;5;241m*\u001b[39mtossed, (i, j), t) \u001b[38;5;28;01mfor\u001b[39;00m tossed \u001b[38;5;129;01min\u001b[39;00m combinations(pets, \u001b[38;5;241m2\u001b[39m)]\n",
      "\u001b[0;31mValueError\u001b[0m: too many values to unpack (expected 3)"
     ]
    }
   ],
   "source": [
    "# test_cbs_on_map(0, 7, show_debug=False, show_all_solution=False)\n",
    "test_cbs_on_map(2, 0)"
   ]
  },
  {
   "cell_type": "code",
   "execution_count": null,
   "id": "13f13a79",
   "metadata": {},
   "outputs": [],
   "source": []
  }
 ],
 "metadata": {
  "kernelspec": {
   "display_name": "Python 3 (ipykernel)",
   "language": "python",
   "name": "python3"
  },
  "language_info": {
   "codemirror_mode": {
    "name": "ipython",
    "version": 3
   },
   "file_extension": ".py",
   "mimetype": "text/x-python",
   "name": "python",
   "nbconvert_exporter": "python",
   "pygments_lexer": "ipython3",
   "version": "3.9.12"
  },
  "vscode": {
   "interpreter": {
    "hash": "e6b827da8ec570dda967925be2e5b87966504cdd70d9ab1bd95205617098a0d5"
   }
  }
 },
 "nbformat": 4,
 "nbformat_minor": 5
}
