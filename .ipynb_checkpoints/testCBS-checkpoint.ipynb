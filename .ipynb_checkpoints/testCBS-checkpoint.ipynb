{
 "cells": [
  {
   "cell_type": "code",
   "execution_count": 50,
   "id": "e7bedfad",
   "metadata": {},
   "outputs": [
    {
     "name": "stdout",
     "output_type": "stream",
     "text": [
      "The autoreload extension is already loaded. To reload it, use:\n",
      "  %reload_ext autoreload\n"
     ]
    }
   ],
   "source": [
    "from testsCBS import test_cbs_on_map\n",
    "from time import time\n",
    "from map import Map\n",
    "from work_with_file import read_task_from_file\n",
    "\n",
    "%load_ext autoreload\n",
    "%autoreload 2"
   ]
  },
  {
   "cell_type": "code",
   "execution_count": 51,
   "id": "04aae2c6",
   "metadata": {},
   "outputs": [
    {
     "ename": "NameError",
     "evalue": "name 'np' is not defined",
     "output_type": "error",
     "traceback": [
      "\u001b[0;31m---------------------------------------------------------------------------\u001b[0m",
      "\u001b[0;31mNameError\u001b[0m                                 Traceback (most recent call last)",
      "Input \u001b[0;32mIn [51]\u001b[0m, in \u001b[0;36m<cell line: 1>\u001b[0;34m()\u001b[0m\n\u001b[0;32m----> 1\u001b[0m \u001b[43mtest_cbs_on_map\u001b[49m\u001b[43m(\u001b[49m\u001b[38;5;241;43m2\u001b[39;49m\u001b[43m,\u001b[49m\u001b[43m \u001b[49m\u001b[38;5;241;43m0\u001b[39;49m\u001b[43m,\u001b[49m\u001b[43m \u001b[49m\u001b[43mshow_debug\u001b[49m\u001b[38;5;241;43m=\u001b[39;49m\u001b[38;5;28;43;01mFalse\u001b[39;49;00m\u001b[43m,\u001b[49m\u001b[43m \u001b[49m\u001b[43mshow_all_solution\u001b[49m\u001b[38;5;241;43m=\u001b[39;49m\u001b[38;5;28;43;01mFalse\u001b[39;49;00m\u001b[43m,\u001b[49m\u001b[43m \u001b[49m\u001b[43mshow_path\u001b[49m\u001b[38;5;241;43m=\u001b[39;49m\u001b[38;5;28;43;01mTrue\u001b[39;49;00m\u001b[43m,\u001b[49m\u001b[43m \u001b[49m\u001b[43mshow_cost\u001b[49m\u001b[38;5;241;43m=\u001b[39;49m\u001b[38;5;28;43;01mTrue\u001b[39;49;00m\u001b[43m)\u001b[49m\n",
      "File \u001b[0;32m~/Documents/vuz/HAaF/CBSLab/testsCBS.py:168\u001b[0m, in \u001b[0;36mtest_cbs_on_map\u001b[0;34m(number, number_test, isCBSH, isCBS_CP, show_debug, show_all_solution, show_path, draw_test_map, show_cost)\u001b[0m\n\u001b[1;32m    165\u001b[0m     sol \u001b[38;5;241m=\u001b[39m CBS_CP(test_map, starts_points, goal_points,\n\u001b[1;32m    166\u001b[0m               octile, SearchTreePQS, show_debug)\n\u001b[1;32m    167\u001b[0m \u001b[38;5;28;01melse\u001b[39;00m:\n\u001b[0;32m--> 168\u001b[0m     sol \u001b[38;5;241m=\u001b[39m \u001b[43mCBS\u001b[49m\u001b[43m(\u001b[49m\u001b[43mtest_map\u001b[49m\u001b[43m,\u001b[49m\u001b[43m \u001b[49m\u001b[43mstarts_points\u001b[49m\u001b[43m,\u001b[49m\u001b[43m \u001b[49m\u001b[43mgoal_points\u001b[49m\u001b[43m,\u001b[49m\n\u001b[1;32m    169\u001b[0m \u001b[43m              \u001b[49m\u001b[43moctile\u001b[49m\u001b[43m,\u001b[49m\u001b[43m \u001b[49m\u001b[43mSearchTreePQS\u001b[49m\u001b[43m,\u001b[49m\u001b[43m \u001b[49m\u001b[43mshow_debug\u001b[49m\u001b[43m)\u001b[49m\n\u001b[1;32m    170\u001b[0m \u001b[38;5;28;01mif\u001b[39;00m show_cost:\n\u001b[1;32m    171\u001b[0m     \u001b[38;5;28mprint\u001b[39m(\u001b[38;5;124m\"\u001b[39m\u001b[38;5;124mCOST: \u001b[39m\u001b[38;5;124m\"\u001b[39m, sol\u001b[38;5;241m.\u001b[39mget_cost())\n",
      "File \u001b[0;32m~/Documents/vuz/HAaF/CBSLab/CBS.py:38\u001b[0m, in \u001b[0;36mCBS\u001b[0;34m(grid_map, starts_points, goals_points, heuristic_func, search_tree, show_debug)\u001b[0m\n\u001b[1;32m     36\u001b[0m root \u001b[38;5;241m=\u001b[39m CBS_Node(\u001b[38;5;241m0\u001b[39m, Constraints(), Solutions())\n\u001b[1;32m     37\u001b[0m \u001b[38;5;28;01mfor\u001b[39;00m i \u001b[38;5;129;01min\u001b[39;00m \u001b[38;5;28mrange\u001b[39m(\u001b[38;5;28mlen\u001b[39m(starts_points)):\n\u001b[0;32m---> 38\u001b[0m     find, end, steps, abandoned \u001b[38;5;241m=\u001b[39m \u001b[43mastar\u001b[49m\u001b[43m(\u001b[49m\n\u001b[1;32m     39\u001b[0m \u001b[43m        \u001b[49m\u001b[43mgrid_map\u001b[49m\u001b[43m,\u001b[49m\n\u001b[1;32m     40\u001b[0m \u001b[43m        \u001b[49m\u001b[43mstarts_points\u001b[49m\u001b[43m[\u001b[49m\u001b[43mi\u001b[49m\u001b[43m]\u001b[49m\u001b[43m[\u001b[49m\u001b[38;5;241;43m0\u001b[39;49m\u001b[43m]\u001b[49m\u001b[43m,\u001b[49m\n\u001b[1;32m     41\u001b[0m \u001b[43m        \u001b[49m\u001b[43mstarts_points\u001b[49m\u001b[43m[\u001b[49m\u001b[43mi\u001b[49m\u001b[43m]\u001b[49m\u001b[43m[\u001b[49m\u001b[38;5;241;43m1\u001b[39;49m\u001b[43m]\u001b[49m\u001b[43m,\u001b[49m\n\u001b[1;32m     42\u001b[0m \u001b[43m        \u001b[49m\u001b[43mgoals_points\u001b[49m\u001b[43m[\u001b[49m\u001b[43mi\u001b[49m\u001b[43m]\u001b[49m\u001b[43m[\u001b[49m\u001b[38;5;241;43m0\u001b[39;49m\u001b[43m]\u001b[49m\u001b[43m,\u001b[49m\n\u001b[1;32m     43\u001b[0m \u001b[43m        \u001b[49m\u001b[43mgoals_points\u001b[49m\u001b[43m[\u001b[49m\u001b[43mi\u001b[49m\u001b[43m]\u001b[49m\u001b[43m[\u001b[49m\u001b[38;5;241;43m1\u001b[39;49m\u001b[43m]\u001b[49m\u001b[43m,\u001b[49m\n\u001b[1;32m     44\u001b[0m \u001b[43m        \u001b[49m\u001b[43mi\u001b[49m\u001b[43m,\u001b[49m\n\u001b[1;32m     45\u001b[0m \u001b[43m        \u001b[49m\u001b[43mConstraints\u001b[49m\u001b[43m(\u001b[49m\u001b[43m)\u001b[49m\u001b[43m,\u001b[49m\n\u001b[1;32m     46\u001b[0m \u001b[43m        \u001b[49m\u001b[43mheuristic_func\u001b[49m\u001b[43m,\u001b[49m\n\u001b[1;32m     47\u001b[0m \u001b[43m        \u001b[49m\u001b[43msearch_tree\u001b[49m\n\u001b[1;32m     48\u001b[0m \u001b[43m    \u001b[49m\u001b[43m)\u001b[49m\n\u001b[1;32m     49\u001b[0m     root\u001b[38;5;241m.\u001b[39mget_solutions()\u001b[38;5;241m.\u001b[39madd_solution(find, end, steps, abandoned)\n\u001b[1;32m     51\u001b[0m root\u001b[38;5;241m.\u001b[39mcount_cost()\n",
      "File \u001b[0;32m~/Documents/vuz/HAaF/CBSLab/astar.py:174\u001b[0m, in \u001b[0;36mastar\u001b[0;34m(grid_map, start_i, start_j, goal_i, goal_j, agent_index, constraints, heuristic_func, search_tree, get_all_path)\u001b[0m\n\u001b[1;32m    171\u001b[0m \u001b[38;5;28;01mif\u001b[39;00m \u001b[38;5;129;01mnot\u001b[39;00m in_contraints \u001b[38;5;129;01mand\u001b[39;00m \u001b[38;5;129;01mnot\u001b[39;00m ast\u001b[38;5;241m.\u001b[39mwas_expanded(new_node):\n\u001b[1;32m    172\u001b[0m     new_node\u001b[38;5;241m.\u001b[39mg \u001b[38;5;241m=\u001b[39m current_node\u001b[38;5;241m.\u001b[39mg \u001b[38;5;241m+\u001b[39m \\\n\u001b[1;32m    173\u001b[0m         compute_cost(current_node\u001b[38;5;241m.\u001b[39mi, current_node\u001b[38;5;241m.\u001b[39mj, i, j)\n\u001b[0;32m--> 174\u001b[0m     new_node\u001b[38;5;241m.\u001b[39mh \u001b[38;5;241m=\u001b[39m \u001b[43mheuristic_func\u001b[49m\u001b[43m(\u001b[49m\u001b[43mi\u001b[49m\u001b[43m,\u001b[49m\u001b[43m \u001b[49m\u001b[43mj\u001b[49m\u001b[43m,\u001b[49m\u001b[43m \u001b[49m\u001b[43mgoal_i\u001b[49m\u001b[43m,\u001b[49m\u001b[43m \u001b[49m\u001b[43mgoal_j\u001b[49m\u001b[43m)\u001b[49m\n\u001b[1;32m    175\u001b[0m     new_node\u001b[38;5;241m.\u001b[39mtime \u001b[38;5;241m=\u001b[39m current_node\u001b[38;5;241m.\u001b[39mtime \u001b[38;5;241m+\u001b[39m \u001b[38;5;241m1\u001b[39m\n\u001b[1;32m    176\u001b[0m     new_node\u001b[38;5;241m.\u001b[39mf \u001b[38;5;241m=\u001b[39m new_node\u001b[38;5;241m.\u001b[39mtime \u001b[38;5;241m+\u001b[39m new_node\u001b[38;5;241m.\u001b[39mh\n",
      "File \u001b[0;32m~/Documents/vuz/HAaF/CBSLab/astar.py:42\u001b[0m, in \u001b[0;36moctile\u001b[0;34m(i1, j1, i2, j2)\u001b[0m\n\u001b[1;32m     41\u001b[0m \u001b[38;5;28;01mdef\u001b[39;00m \u001b[38;5;21m__init__\u001b[39m(\u001b[38;5;28mself\u001b[39m, i, j, g\u001b[38;5;241m=\u001b[39m\u001b[38;5;241m0\u001b[39m, h\u001b[38;5;241m=\u001b[39m\u001b[38;5;241m0\u001b[39m, f\u001b[38;5;241m=\u001b[39m\u001b[38;5;28;01mNone\u001b[39;00m, parent\u001b[38;5;241m=\u001b[39m\u001b[38;5;28;01mNone\u001b[39;00m, tie_breaking_func\u001b[38;5;241m=\u001b[39m\u001b[38;5;28;01mNone\u001b[39;00m):\n\u001b[0;32m---> 42\u001b[0m     \u001b[38;5;28mself\u001b[39m\u001b[38;5;241m.\u001b[39mi \u001b[38;5;241m=\u001b[39m i\n\u001b[1;32m     43\u001b[0m     \u001b[38;5;28mself\u001b[39m\u001b[38;5;241m.\u001b[39mj \u001b[38;5;241m=\u001b[39m j\n\u001b[1;32m     44\u001b[0m     \u001b[38;5;28mself\u001b[39m\u001b[38;5;241m.\u001b[39mg \u001b[38;5;241m=\u001b[39m g\n",
      "\u001b[0;31mNameError\u001b[0m: name 'np' is not defined"
     ]
    }
   ],
   "source": [
    "test_cbs_on_map(2, 0, show_debug=False, show_all_solution=False, show_path=True, show_cost=True)"
   ]
  },
  {
   "cell_type": "code",
   "execution_count": 24,
   "id": "95bee77a",
   "metadata": {},
   "outputs": [],
   "source": [
    "test = Map()"
   ]
  },
  {
   "cell_type": "code",
   "execution_count": 25,
   "id": "a4a03625",
   "metadata": {},
   "outputs": [
    {
     "data": {
      "text/plain": [
       "(7,\n",
       " 4,\n",
       " [[1, 1, 1, 1, 1, 1, 1],\n",
       "  [1, 0, 0, 0, 0, 0, 1],\n",
       "  [1, 1, 1, 0, 1, 1, 1],\n",
       "  [1, 1, 1, 1, 1, 1, 1]],\n",
       " [(1, 1), (1, 2)],\n",
       " [(1, 5), (1, 4)])"
      ]
     },
     "execution_count": 25,
     "metadata": {},
     "output_type": "execute_result"
    }
   ],
   "source": [
    "read_task_from_file(\"../CBS-with-heuristics/instances/exp1.txt\")"
   ]
  },
  {
   "cell_type": "code",
   "execution_count": 10,
   "id": "bf0581bc",
   "metadata": {},
   "outputs": [],
   "source": [
    "# test_cbs_on_map(0, 7, show_debug=False, show_all_solution=False)\n",
    "def test_all(map_number, test_number):\n",
    "    print(\"===============================\")\n",
    "    print(\"TEST on \", map_number, \" test number \", test_number)\n",
    "    t0 = time()\n",
    "    %time res = test_cbs_on_map(map_number, test_number, show_debug=False, show_all_solution=False, show_path=True, show_cost=True)\n",
    "    t1 = time()\n",
    "    print(\"CBS: \", t1 - t0)\n",
    "    t0 = time()\n",
    "    %time res = test_cbs_on_map(map_number, test_number, isCBS_CP=True, show_debug=False, show_all_solution=False, show_path=True, show_cost=True)\n",
    "    t1 = time()\n",
    "    print(\"CBS_PC: \", t1 - t0)\n",
    "    t0 = time()\n",
    "    %time res = test_cbs_on_map(map_number, test_number, isCBSH=True, show_debug=False, show_all_solution=False, show_path=True, show_cost=True)\n",
    "    t1 = time()\n",
    "    print(\"CBSH: \", t1 - t0)\n",
    "    print(\"===============================\")"
   ]
  },
  {
   "cell_type": "code",
   "execution_count": 8,
   "id": "40f1368e",
   "metadata": {},
   "outputs": [
    {
     "name": "stdout",
     "output_type": "stream",
     "text": [
      "COST:  19\n",
      "[0 0 0, 0 1 1, 0 2 2, 1 2 3, 2 2 4]\n",
      "[0 1 0, 1 1 1, 2 1 2, 3 1 3, 4 1 4, 5 1 5, 6 1 6, 7 1 7, 8 1 8, 9 1 9, 10 1 10]\n",
      "[1 0 0, 1 0 1, 1 1 2, 1 1 3, 1 2 4, 1 3 5]\n",
      "CPU times: user 15.7 ms, sys: 377 µs, total: 16.1 ms\n",
      "Wall time: 15.7 ms\n",
      "CBSH:  0.0161588191986084\n"
     ]
    }
   ],
   "source": [
    "t0 = time()\n",
    "%time res = test_cbs_on_map(0, 2, isCBSH=True, show_debug=False, show_all_solution=False, show_path=True, show_cost=True)\n",
    "t1 = time()\n",
    "print(\"CBSH: \", t1 - t0)"
   ]
  },
  {
   "cell_type": "code",
   "execution_count": 11,
   "id": "b3fe064c",
   "metadata": {},
   "outputs": [
    {
     "name": "stdout",
     "output_type": "stream",
     "text": [
      "===============================\n",
      "TEST on  0  test number  0\n",
      "COST:  14\n",
      "[0 0 0, 1 0 1, 2 0 2, 2 1 3, 2 2 4]\n",
      "[0 1 0, 1 1 1, 2 1 2, 3 1 3, 4 1 4, 5 1 5, 6 1 6, 7 1 7, 8 1 8, 9 1 9, 10 1 10]\n",
      "CPU times: user 876 µs, sys: 58 µs, total: 934 µs\n",
      "Wall time: 904 µs\n",
      "CBS:  0.0013189315795898438\n",
      "COST:  14\n",
      "[0 0 0, 0 1 1, 1 1 2, 1 2 3, 2 2 4]\n",
      "[0 1 0, 1 1 1, 2 1 2, 3 1 3, 4 1 4, 5 1 5, 6 1 6, 7 1 7, 8 1 8, 9 1 9, 10 1 10]\n",
      "CPU times: user 889 µs, sys: 73 µs, total: 962 µs\n",
      "Wall time: 901 µs\n",
      "CBS_PC:  0.0012102127075195312\n",
      "COST:  14\n",
      "[0 0 0, 0 1 1, 1 1 2, 1 2 3, 2 2 4]\n",
      "[0 1 0, 1 1 1, 2 1 2, 3 1 3, 4 1 4, 5 1 5, 6 1 6, 7 1 7, 8 1 8, 9 1 9, 10 1 10]\n",
      "CPU times: user 937 µs, sys: 98 µs, total: 1.04 ms\n",
      "Wall time: 1 ms\n",
      "CBSH:  0.0013740062713623047\n",
      "===============================\n",
      "===============================\n",
      "TEST on  0  test number  1\n",
      "COST:  14\n",
      "[0 1 0, 1 1 1, 2 1 2, 3 1 3, 4 1 4, 5 1 5, 6 1 6, 7 1 7, 8 1 8, 9 1 9, 10 1 10]\n",
      "[0 0 0, 1 0 1, 2 0 2, 2 1 3, 2 2 4]\n",
      "CPU times: user 704 µs, sys: 132 µs, total: 836 µs\n",
      "Wall time: 705 µs\n",
      "CBS:  0.0010509490966796875\n",
      "COST:  14\n",
      "[0 1 0, 1 1 1, 2 1 2, 3 1 3, 4 1 4, 5 1 5, 6 1 6, 7 1 7, 8 1 8, 9 1 9, 10 1 10]\n",
      "[0 0 0, 0 1 1, 1 1 2, 1 2 3, 2 2 4]\n",
      "CPU times: user 763 µs, sys: 22 µs, total: 785 µs\n",
      "Wall time: 772 µs\n",
      "CBS_PC:  0.0010180473327636719\n",
      "COST:  14\n",
      "[0 1 0, 1 1 1, 2 1 2, 3 1 3, 4 1 4, 5 1 5, 6 1 6, 7 1 7, 8 1 8, 9 1 9, 10 1 10]\n",
      "[0 0 0, 0 1 1, 1 1 2, 1 2 3, 2 2 4]\n",
      "CPU times: user 804 µs, sys: 40 µs, total: 844 µs\n",
      "Wall time: 852 µs\n",
      "CBSH:  0.0010809898376464844\n",
      "===============================\n",
      "===============================\n",
      "TEST on  0  test number  2\n",
      "COST:  19\n",
      "[0 0 0, 1 0 1, 1 0 2, 1 1 3, 2 1 4, 2 2 5]\n",
      "[0 1 0, 0 1 1, 1 1 2, 2 1 3, 3 1 4, 4 1 5, 5 1 6, 6 1 7, 7 1 8, 8 1 9, 9 1 10, 10 1 11]\n",
      "[1 0 0, 1 1 1, 1 2 2, 1 3 3]\n",
      "CPU times: user 12.8 ms, sys: 261 µs, total: 13 ms\n",
      "Wall time: 13.1 ms\n",
      "CBS:  0.01331186294555664\n",
      "COST:  19\n",
      "[0 0 0, 1 0 1, 1 0 2, 1 1 3, 1 2 4, 2 2 5]\n",
      "[0 1 0, 0 1 1, 1 1 2, 2 1 3, 3 1 4, 4 1 5, 5 1 6, 6 1 7, 7 1 8, 8 1 9, 9 1 10, 10 1 11]\n",
      "[1 0 0, 1 1 1, 1 2 2, 1 3 3]\n",
      "CPU times: user 15.9 ms, sys: 134 µs, total: 16 ms\n",
      "Wall time: 16 ms\n",
      "CBS_PC:  0.016251087188720703\n",
      "COST:  19\n",
      "[0 0 0, 0 1 1, 0 2 2, 1 2 3, 2 2 4]\n",
      "[0 1 0, 1 1 1, 2 1 2, 3 1 3, 4 1 4, 5 1 5, 6 1 6, 7 1 7, 8 1 8, 9 1 9, 10 1 10]\n",
      "[1 0 0, 1 0 1, 1 1 2, 1 1 3, 1 2 4, 1 3 5]\n",
      "CPU times: user 15.1 ms, sys: 151 µs, total: 15.3 ms\n",
      "Wall time: 15.3 ms\n",
      "CBSH:  0.015526771545410156\n",
      "===============================\n",
      "===============================\n",
      "TEST on  0  test number  3\n",
      "COST:  37\n",
      "[0 0 0, 1 0 1, 1 0 2, 1 1 3, 2 1 4, 2 2 5]\n",
      "[0 1 0, 0 1 1, 1 1 2, 2 1 3, 3 1 4, 4 1 5, 5 1 6, 6 1 7, 7 1 8, 8 1 9, 9 1 10, 10 1 11]\n",
      "[1 0 0, 1 1 1, 1 2 2, 1 3 3]\n",
      "[1 1 0, 1 2 1, 2 2 2, 2 3 3, 2 4 4, 2 5 5, 3 5 6, 4 5 7, 5 5 8, 6 5 9, 7 5 10, 8 5 11, 9 5 12, 10 5 13, 10 6 14, 10 7 15, 10 8 16, 10 9 17, 10 10 18]\n",
      "CPU times: user 23.4 ms, sys: 276 µs, total: 23.7 ms\n",
      "Wall time: 23.7 ms\n",
      "CBS:  0.02390599250793457\n",
      "COST:  37\n",
      "[0 0 0, 1 0 1, 1 0 2, 1 1 3, 1 2 4, 2 2 5]\n",
      "[0 1 0, 0 1 1, 1 1 2, 2 1 3, 3 1 4, 4 1 5, 5 1 6, 6 1 7, 7 1 8, 8 1 9, 9 1 10, 10 1 11]\n",
      "[1 0 0, 1 1 1, 1 2 2, 1 3 3]\n",
      "[1 1 0, 1 2 1, 2 2 2, 2 3 3, 2 4 4, 2 5 5, 3 5 6, 4 5 7, 5 5 8, 6 5 9, 7 5 10, 8 5 11, 9 5 12, 10 5 13, 10 6 14, 10 7 15, 10 8 16, 10 9 17, 10 10 18]\n",
      "CPU times: user 29.7 ms, sys: 269 µs, total: 30 ms\n",
      "Wall time: 30 ms\n",
      "CBS_PC:  0.030241727828979492\n",
      "COST:  37\n",
      "[0 0 0, 0 1 1, 0 2 2, 1 2 3, 2 2 4]\n",
      "[0 1 0, 1 1 1, 2 1 2, 3 1 3, 4 1 4, 5 1 5, 6 1 6, 7 1 7, 8 1 8, 9 1 9, 10 1 10]\n",
      "[1 0 0, 1 0 1, 1 1 2, 1 1 3, 1 2 4, 1 3 5]\n",
      "[1 1 0, 1 2 1, 2 2 2, 2 3 3, 2 4 4, 2 5 5, 3 5 6, 4 5 7, 5 5 8, 6 5 9, 7 5 10, 8 5 11, 9 5 12, 10 5 13, 10 6 14, 10 7 15, 10 8 16, 10 9 17, 10 10 18]\n",
      "CPU times: user 30.5 ms, sys: 180 µs, total: 30.6 ms\n",
      "Wall time: 30.7 ms\n",
      "CBSH:  0.030910015106201172\n",
      "===============================\n",
      "===============================\n",
      "TEST on  0  test number  4\n",
      "COST:  26\n",
      "[0 0 0, 1 0 1, 2 0 2, 2 1 3, 2 2 4]\n",
      "[0 1 0, 0 0 1]\n",
      "[1 0 0, 1 1 1, 1 2 2, 1 3 3]\n",
      "[1 1 0, 1 2 1, 2 2 2, 2 3 3, 2 4 4, 2 5 5, 3 5 6, 4 5 7, 5 5 8, 6 5 9, 7 5 10, 8 5 11, 9 5 12, 10 5 13, 10 6 14, 10 7 15, 10 8 16, 10 9 17, 10 10 18]\n",
      "CPU times: user 7.44 ms, sys: 80 µs, total: 7.52 ms\n",
      "Wall time: 7.54 ms\n",
      "CBS:  0.007753133773803711\n",
      "COST:  26\n",
      "[0 0 0, 1 0 1, 1 1 2, 2 1 3, 2 2 4]\n",
      "[0 1 0, 0 0 1]\n",
      "[1 0 0, 1 1 1, 1 2 2, 1 3 3]\n",
      "[1 1 0, 1 2 1, 2 2 2, 2 3 3, 2 4 4, 2 5 5, 3 5 6, 4 5 7, 5 5 8, 6 5 9, 7 5 10, 8 5 11, 9 5 12, 10 5 13, 10 6 14, 10 7 15, 10 8 16, 10 9 17, 10 10 18]\n",
      "CPU times: user 9.16 ms, sys: 114 µs, total: 9.28 ms\n",
      "Wall time: 9.28 ms\n",
      "CBS_PC:  0.00952911376953125\n",
      "COST:  26\n",
      "[0 0 0, 1 0 1, 1 1 2, 2 1 3, 2 2 4]\n",
      "[0 1 0, 0 0 1]\n",
      "[1 0 0, 1 1 1, 1 2 2, 1 3 3]\n",
      "[1 1 0, 1 2 1, 2 2 2, 2 3 3, 2 4 4, 2 5 5, 3 5 6, 4 5 7, 5 5 8, 6 5 9, 7 5 10, 8 5 11, 9 5 12, 10 5 13, 10 6 14, 10 7 15, 10 8 16, 10 9 17, 10 10 18]\n",
      "CPU times: user 9.37 ms, sys: 82 µs, total: 9.46 ms\n",
      "Wall time: 9.46 ms\n",
      "CBSH:  0.009694814682006836\n",
      "===============================\n",
      "===============================\n",
      "TEST on  0  test number  5\n",
      "COST:  4\n",
      "[0 0 0, 1 0 1, 1 1 2, 0 1 3]\n",
      "[0 1 0, 0 0 1]\n",
      "CPU times: user 1.33 ms, sys: 15 µs, total: 1.34 ms\n",
      "Wall time: 1.34 ms\n",
      "CBS:  0.0015931129455566406\n",
      "COST:  4\n",
      "[0 0 0, 1 0 1, 1 1 2, 0 1 3]\n",
      "[0 1 0, 0 0 1]\n",
      "CPU times: user 1.65 ms, sys: 56 µs, total: 1.71 ms\n",
      "Wall time: 1.7 ms\n",
      "CBS_PC:  0.0019948482513427734\n",
      "COST:  4\n",
      "[0 0 0, 1 0 1, 1 1 2, 0 1 3]\n",
      "[0 1 0, 0 0 1]\n",
      "CPU times: user 1.56 ms, sys: 44 µs, total: 1.6 ms\n",
      "Wall time: 1.59 ms\n",
      "CBSH:  0.0018200874328613281\n",
      "===============================\n",
      "===============================\n",
      "TEST on  0  test number  6\n",
      "COST:  8\n",
      "[0 0 0, 0 1 1, 1 1 2]\n",
      "[0 1 0, 1 1 1, 1 0 2]\n",
      "[1 0 0, 0 0 1, 0 1 2]\n",
      "[1 1 0, 1 0 1, 0 0 2]\n",
      "CPU times: user 1.54 ms, sys: 40 µs, total: 1.58 ms\n",
      "Wall time: 1.58 ms\n",
      "CBS:  0.0018601417541503906\n",
      "COST:  8\n",
      "[0 0 0, 0 1 1, 1 1 2]\n",
      "[0 1 0, 1 1 1, 1 0 2]\n",
      "[1 0 0, 0 0 1, 0 1 2]\n",
      "[1 1 0, 1 0 1, 0 0 2]\n",
      "CPU times: user 2.29 ms, sys: 49 µs, total: 2.34 ms\n",
      "Wall time: 2.34 ms\n",
      "CBS_PC:  0.0025701522827148438\n",
      "COST:  8\n",
      "[0 0 0, 0 1 1, 1 1 2]\n",
      "[0 1 0, 1 1 1, 1 0 2]\n",
      "[1 0 0, 0 0 1, 0 1 2]\n",
      "[1 1 0, 1 0 1, 0 0 2]\n",
      "CPU times: user 2.29 ms, sys: 45 µs, total: 2.33 ms\n",
      "Wall time: 2.33 ms\n",
      "CBSH:  0.002573251724243164\n",
      "===============================\n",
      "===============================\n",
      "TEST on  0  test number  7\n",
      "COST:  24\n",
      "[0 0 0, 0 1 1, 1 1 2]\n",
      "[0 1 0, 1 1 1, 1 0 2]\n",
      "[1 0 0, 0 0 1, 0 1 2]\n",
      "[1 1 0, 1 0 1, 0 0 2]\n",
      "[2 1 0, 3 1 1, 3 2 2, 2 2 3, 1 2 4, 0 2 5]\n",
      "[1 2 0, 2 2 1, 2 1 2, 2 0 3]\n",
      "[2 0 0, 2 1 1, 3 1 2, 3 2 3, 2 2 4, 1 2 5]\n",
      "[0 2 0, 1 2 1, 2 2 2, 2 1 3]\n",
      "CPU times: user 6.43 s, sys: 69.8 ms, total: 6.5 s\n",
      "Wall time: 6.51 s\n",
      "CBS:  6.509888172149658\n",
      "COST:  24\n",
      "[0 0 0, 0 1 1, 1 1 2]\n",
      "[0 1 0, 1 1 1, 1 0 2]\n",
      "[1 0 0, 0 0 1, 0 1 2]\n",
      "[1 1 0, 1 0 1, 0 0 2]\n",
      "[2 1 0, 2 2 1, 1 2 2, 0 2 3]\n",
      "[1 2 0, 1 3 1, 2 3 2, 2 2 3, 2 1 4, 2 0 5]\n",
      "[2 0 0, 2 1 1, 2 2 2, 1 2 3]\n",
      "[0 2 0, 1 2 1, 1 3 2, 2 3 3, 2 2 4, 2 1 5]\n",
      "CPU times: user 4.54 s, sys: 38.2 ms, total: 4.57 s\n",
      "Wall time: 4.57 s\n",
      "CBS_PC:  4.5736610889434814\n",
      "COST:  24\n",
      "[0 0 0, 1 0 1, 1 1 2]\n",
      "[0 1 0, 0 0 1, 1 0 2]\n",
      "[1 0 0, 1 1 1, 0 1 2]\n",
      "[1 1 0, 0 1 1, 0 0 2]\n",
      "[2 1 0, 3 1 1, 3 2 2, 2 2 3, 1 2 4, 0 2 5]\n",
      "[1 2 0, 2 2 1, 2 1 2, 2 0 3]\n",
      "[2 0 0, 2 1 1, 3 1 2, 3 2 3, 2 2 4, 1 2 5]\n",
      "[0 2 0, 1 2 1, 2 2 2, 2 1 3]\n",
      "CPU times: user 2.06 s, sys: 7.34 ms, total: 2.07 s\n",
      "Wall time: 2.07 s\n",
      "CBSH:  2.072512149810791\n",
      "===============================\n",
      "===============================\n",
      "TEST on  0  test number  8\n",
      "COST:  56\n",
      "[0 0 0, 1 0 1, 1 1 2, 1 2 3, 1 3 4, 1 4 5, 1 5 6, 1 6 7, 1 7 8, 0 7 9, 0 8 10, 0 9 11, 0 10 12]\n",
      "[0 1 0, 0 0 1, 1 0 2, 2 0 3, 3 0 4, 4 0 5, 5 0 6, 6 0 7, 7 0 8, 8 0 9, 9 0 10, 10 0 11]\n",
      "[1 0 0, 1 1 1, 1 2 2, 1 3 3, 1 4 4, 1 5 5, 1 6 6, 1 7 7, 1 8 8, 1 9 9, 1 10 10]\n",
      "[1 1 0, 2 1 1, 3 1 2, 4 1 3, 5 1 4, 6 1 5, 7 1 6, 8 1 7, 9 1 8, 10 1 9]\n",
      "[2 0 0, 2 0 1, 2 0 2, 2 1 3, 1 1 4]\n",
      "[2 1 0, 2 2 1, 2 1 2, 1 1 3, 1 0 4]\n",
      "[0 2 0, 0 3 1, 0 2 2, 0 1 3]\n",
      "[1 2 0, 0 2 1, 0 1 2, 0 0 3]\n",
      "CPU times: user 50.3 s, sys: 989 ms, total: 51.3 s\n",
      "Wall time: 51.5 s\n",
      "CBS:  51.526957750320435\n",
      "COST:  56\n",
      "[0 0 0, 0 1 1, 0 2 2, 0 3 3, 0 4 4, 0 5 5, 0 6 6, 0 7 7, 0 8 8, 0 9 9, 0 10 10]\n",
      "[0 1 0, 1 1 1, 2 1 2, 3 1 3, 4 1 4, 5 1 5, 6 1 6, 7 1 7, 7 0 8, 8 0 9, 9 0 10, 10 0 11]\n",
      "[1 0 0, 0 0 1, 0 1 2, 0 2 3, 0 3 4, 0 4 5, 0 5 6, 0 6 7, 0 7 8, 0 8 9, 0 9 10, 1 9 11, 1 10 12]\n",
      "[1 1 0, 2 1 1, 3 1 2, 4 1 3, 5 1 4, 6 1 5, 7 1 6, 8 1 7, 9 1 8, 10 1 9]\n",
      "[2 0 0, 3 0 1, 2 0 2, 2 1 3, 1 1 4]\n",
      "[2 1 0, 2 0 1, 1 0 2]\n",
      "[0 2 0, 0 2 1, 1 2 2, 1 1 3, 0 1 4]\n",
      "[1 2 0, 1 2 1, 1 1 2, 0 1 3, 0 0 4]\n",
      "CPU times: user 1min 13s, sys: 1.66 s, total: 1min 14s\n",
      "Wall time: 1min 15s\n",
      "CBS_PC:  75.21255397796631\n"
     ]
    },
    {
     "name": "stdout",
     "output_type": "stream",
     "text": [
      "COST:  56\n",
      "[0 0 0, 1 0 1, 1 1 2, 1 2 3, 1 3 4, 1 4 5, 1 5 6, 1 6 7, 1 7 8, 0 7 9, 0 8 10, 0 9 11, 0 10 12]\n",
      "[0 1 0, 0 0 1, 1 0 2, 2 0 3, 3 0 4, 4 0 5, 5 0 6, 6 0 7, 7 0 8, 8 0 9, 9 0 10, 10 0 11]\n",
      "[1 0 0, 1 1 1, 1 2 2, 1 3 3, 1 4 4, 1 5 5, 1 6 6, 1 7 7, 1 8 8, 1 9 9, 1 10 10]\n",
      "[1 1 0, 2 1 1, 3 1 2, 4 1 3, 5 1 4, 6 1 5, 7 1 6, 8 1 7, 9 1 8, 10 1 9]\n",
      "[2 0 0, 2 0 1, 2 0 2, 2 1 3, 1 1 4]\n",
      "[2 1 0, 2 2 1, 2 1 2, 1 1 3, 1 0 4]\n",
      "[0 2 0, 0 3 1, 0 2 2, 0 1 3]\n",
      "[1 2 0, 0 2 1, 0 1 2, 0 0 3]\n",
      "CPU times: user 35.4 s, sys: 391 ms, total: 35.7 s\n",
      "Wall time: 35.7 s\n",
      "CBSH:  35.74679207801819\n",
      "===============================\n"
     ]
    }
   ],
   "source": [
    "for i in range(9):\n",
    "    test_all(0,i)"
   ]
  },
  {
   "cell_type": "code",
   "execution_count": 29,
   "id": "596c8d48",
   "metadata": {},
   "outputs": [],
   "source": [
    "\n",
    "\n",
    "st = \". . . . . . . . . . . . . . . . . . . . . . . . . . . . . . . . . . . @ @ @ @ @ @ . @ @ @ @ @ @ . @ @ @ @ @ @ . . . . .. . . . . @ @ @ @ @ @ . @ @ @ @ @ @ . @ @ @ @ @ @ . . . . .. . . . . . . . . . . . . . . . . . . . . . . . . . . . . .. . . . . @ @ @ @ @ @ . @ @ @ @ @ @ . @ @ @ @ @ @ . . . . .. . . . . @ @ @ @ @ @ . @ @ @ @ @ @ . @ @ @ @ @ @ . . . . .. . . . . . . . . . . . . . . . . . . . . . . . . . . . . .. . . . . @ @ @ @ @ @ . @ @ @ @ @ @ . @ @ @ @ @ @ . . . . .. . . . . @ @ @ @ @ @ . @ @ @ @ @ @ . @ @ @ @ @ @ . . . . .. . . . . . . . . . . . . . . . . . . . . . . . . . . . . .\""
   ]
  },
  {
   "cell_type": "code",
   "execution_count": 30,
   "id": "7166bc5c",
   "metadata": {},
   "outputs": [],
   "source": [
    "st = st.replace(\" \", \"\")"
   ]
  },
  {
   "cell_type": "code",
   "execution_count": 33,
   "id": "7612c930",
   "metadata": {},
   "outputs": [],
   "source": [
    "s = []\n",
    "j = -1\n",
    "\n",
    "for i in range(300):\n",
    "    if i %30 == 0:\n",
    "        j += 1\n",
    "        s.append([])\n",
    "    s[j].append(st[i])"
   ]
  },
  {
   "cell_type": "code",
   "execution_count": 35,
   "id": "01e134ef",
   "metadata": {},
   "outputs": [
    {
     "name": "stdout",
     "output_type": "stream",
     "text": [
      ". . . . . . . . . . . . . . . . . . . . . . . . . . . . . .\n",
      ". . . . . @ @ @ @ @ @ . @ @ @ @ @ @ . @ @ @ @ @ @ . . . . .\n",
      ". . . . . @ @ @ @ @ @ . @ @ @ @ @ @ . @ @ @ @ @ @ . . . . .\n",
      ". . . . . . . . . . . . . . . . . . . . . . . . . . . . . .\n",
      ". . . . . @ @ @ @ @ @ . @ @ @ @ @ @ . @ @ @ @ @ @ . . . . .\n",
      ". . . . . @ @ @ @ @ @ . @ @ @ @ @ @ . @ @ @ @ @ @ . . . . .\n",
      ". . . . . . . . . . . . . . . . . . . . . . . . . . . . . .\n",
      ". . . . . @ @ @ @ @ @ . @ @ @ @ @ @ . @ @ @ @ @ @ . . . . .\n",
      ". . . . . @ @ @ @ @ @ . @ @ @ @ @ @ . @ @ @ @ @ @ . . . . .\n",
      ". . . . . . . . . . . . . . . . . . . . . . . . . . . . . .\n"
     ]
    }
   ],
   "source": [
    "for i in range(10):\n",
    "    print(\" \".join(s[i]))"
   ]
  },
  {
   "cell_type": "code",
   "execution_count": 36,
   "id": "969fcca3",
   "metadata": {},
   "outputs": [],
   "source": [
    "from random import randint"
   ]
  },
  {
   "cell_type": "code",
   "execution_count": 48,
   "id": "9a189458",
   "metadata": {},
   "outputs": [
    {
     "name": "stdout",
     "output_type": "stream",
     "text": [
      "3 21 9 12\n",
      "9 13 4 28\n",
      "8 11 3 11\n",
      "0 1 1 26\n",
      "1 26 4 25\n",
      "4 25 4 1\n",
      "8 0 5 11\n",
      "8 26 6 5\n",
      "3 13 8 3\n",
      "1 2 7 2\n",
      "0 15 6 6\n",
      "5 4 2 3\n"
     ]
    }
   ],
   "source": [
    "starts = []\n",
    "goals = []\n",
    "const = 12\n",
    "for i in range(const):\n",
    "    a,b = randint(0, 29), randint (0, 9)\n",
    "    c, d = randint(0, 29), randint (0, 9)\n",
    "    while s[b][a] == \"@\" or (b, a) in starts:\n",
    "        a,b = randint(0, 29), randint (0, 9)\n",
    "    \n",
    "    while s[d][c] == \"@\" or (d == b and a == c) or (d, c) in goals:\n",
    "        c, d = randint(0, 29), randint (0, 9)\n",
    "    \n",
    "    starts.append((b, a))\n",
    "    goals.append((d, c))\n",
    "\n",
    "for i in range(const):\n",
    "    print(starts[i][0], starts[i][1], goals[i][0], goals[i][1])"
   ]
  },
  {
   "cell_type": "code",
   "execution_count": 45,
   "id": "e8b8269a",
   "metadata": {},
   "outputs": [
    {
     "name": "stdout",
     "output_type": "stream",
     "text": [
      ". .\n",
      ". .\n",
      ". .\n",
      ". .\n",
      ". .\n",
      ". .\n",
      ". .\n",
      ". .\n",
      ". .\n",
      ". .\n"
     ]
    }
   ],
   "source": [
    "for i in range(const):\n",
    "    print(s[starts[i][0]][starts[i][1]], s[goals[i][0]][goals[i][1]])"
   ]
  },
  {
   "cell_type": "code",
   "execution_count": null,
   "id": "03fe6eb2",
   "metadata": {},
   "outputs": [],
   "source": []
  }
 ],
 "metadata": {
  "kernelspec": {
   "display_name": "Python 3 (ipykernel)",
   "language": "python",
   "name": "python3"
  },
  "language_info": {
   "codemirror_mode": {
    "name": "ipython",
    "version": 3
   },
   "file_extension": ".py",
   "mimetype": "text/x-python",
   "name": "python",
   "nbconvert_exporter": "python",
   "pygments_lexer": "ipython3",
   "version": "3.9.12"
  },
  "vscode": {
   "interpreter": {
    "hash": "e6b827da8ec570dda967925be2e5b87966504cdd70d9ab1bd95205617098a0d5"
   }
  }
 },
 "nbformat": 4,
 "nbformat_minor": 5
}
